{
 "cells": [
  {
   "cell_type": "markdown",
   "metadata": {},
   "source": [
    "Q1."
   ]
  },
  {
   "cell_type": "code",
   "execution_count": 2,
   "metadata": {},
   "outputs": [],
   "source": [
    "import pandas as pd\n",
    "from faker import Faker\n",
    "import numpy as np"
   ]
  },
  {
   "cell_type": "markdown",
   "metadata": {},
   "source": [
    "Load the dataset"
   ]
  },
  {
   "cell_type": "code",
   "execution_count": 3,
   "metadata": {},
   "outputs": [],
   "source": [
    "# Load the original datasets\n",
    "original_data= pd.read_csv('Australia_Grocery_2022Sep.csv')\n"
   ]
  },
  {
   "cell_type": "markdown",
   "metadata": {},
   "source": [
    "Create Synthetic data"
   ]
  },
  {
   "cell_type": "code",
   "execution_count": 17,
   "metadata": {},
   "outputs": [
    {
     "name": "stdout",
     "output_type": "stream",
     "text": [
      "   Transaction_ID                 Date        Customer_Name       SKU  \\\n",
      "0      4353362109  2022-01-22T10:50:40       William Duncan  7195247P   \n",
      "1      5710332978  2024-02-24T04:44:12  Alejandra Hernandez  3996084P   \n",
      "2      4704004526  2021-02-20T22:50:06       Rachel Holland  9735684P   \n",
      "3      4862690397  2020-03-16T08:42:31           Kyle Davis  3531127P   \n",
      "4      3731988236  2024-03-29T05:09:46     Matthew Robinson  7452099P   \n",
      "\n",
      "          Category Product_Group                        Product_Name  \\\n",
      "0  Oils & vinegars      Packaged          Italian White Wine Vinegar   \n",
      "1            Dairy         Fresh       Twist Yoghurt Limited Edition   \n",
      "2           Sauces        Frozen  Brown Rice Crackers Tamari Seaweed   \n",
      "3            Fruit         Fresh                 Pinezilla Pineapple   \n",
      "4  Oils & vinegars        Frozen        Extra Virgin Olive Oil Light   \n",
      "\n",
      "   Unit_Price Unit_Price_Unit  Total_Items  Total_Cost  Payment_Method  \\\n",
      "0        1.31             1Kg           10       13.61            Cash   \n",
      "1        8.34             1Kg            8       83.44      Debit Card   \n",
      "2       19.88             1Kg            7       57.56      Debit Card   \n",
      "3        3.24            each            1       71.19  Mobile Payment   \n",
      "4       11.96           dozen            6       72.21            Cash   \n",
      "\n",
      "  Postal_Code State  \n",
      "0        6461    SA  \n",
      "1        2974   ACT  \n",
      "2        2738   TAS  \n",
      "3        5251   NSW  \n",
      "4        0218   TAS  \n"
     ]
    }
   ],
   "source": [
    "fake = Faker('en_AU')  # Set Faker to use Australian locale\n",
    "\n",
    "\n",
    "# Create a DataFrame for SKU, Product_Name, and Sub_Category\n",
    "sku_product_data = original_data[['Sku', 'Product_Name', 'Sub_category']].dropna().drop_duplicates()\n",
    "\n",
    "def generate_synthetic_data(num_entries):\n",
    "    data = []\n",
    "    for _ in range(num_entries):\n",
    "        # Select a random row from sku_product_data\n",
    "        selected_product = sku_product_data.sample(n=1).iloc[0]\n",
    "\n",
    "        transaction_id = fake.unique.random_int(min=1000000000, max=9999999999)\n",
    "        date = fake.date_time_this_decade(before_now=True, after_now=False, tzinfo=None).isoformat()\n",
    "        customer_name = fake.name()\n",
    "        total_items = fake.random_int(min=1, max=10)\n",
    "        total_cost = round(np.random.uniform(5.0, 100.0), 2)\n",
    "        payment_method = fake.random_element(elements=[\"Debit Card\", \"Credit Card\", \"Mobile Payment\", \"Cash\"])\n",
    "        suburb = fake.city()  # Using city as a proxy for suburb\n",
    "        postal_code = fake.postcode()\n",
    "        state = fake.state_abbr()  # Generate state abbreviation\n",
    "        store_type = fake.random_element(elements=[\"Convenience Store\", \"Supermarket\", \"Warehouse Club\"])\n",
    "        product_group = fake.random_element(elements=[\"Packaged\", \"Fresh\", \"Frozen\", \"Canned\"])\n",
    "        unit_price = round(np.random.uniform(0.5, 20.0), 2)\n",
    "        unit_price_unit = fake.random_element(elements=[\"1Kg\", \"each\", \"pack\", \"dozen\"])\n",
    "\n",
    "        # Use SKU, Product_Name, and Sub_Category from the selected_product\n",
    "        data.append({\n",
    "            \"Transaction_ID\": transaction_id,\n",
    "            \"Date\": date,\n",
    "            \"Customer_Name\": customer_name,\n",
    "            \"SKU\": selected_product['Sku'],\n",
    "             \"Category\": selected_product['Sub_category'],\n",
    "            \"Product_Group\": product_group,\n",
    "            \"Product_Name\": selected_product['Product_Name'],\n",
    "            \"Unit_Price\": unit_price,\n",
    "            \"Unit_Price_Unit\": unit_price_unit,\n",
    "            \"Total_Items\": total_items,\n",
    "            \"Total_Cost\": total_cost,      \n",
    "            \"Payment_Method\": payment_method,\n",
    "            \"Postal_Code\": postal_code,\n",
    "            \"State\": state\n",
    "        })\n",
    "\n",
    "    return pd.DataFrame(data)\n",
    "\n",
    "# Generate synthetic data\n",
    "synthetic_data = generate_synthetic_data(1500)\n",
    "print(synthetic_data.head())\n"
   ]
  },
  {
   "cell_type": "markdown",
   "metadata": {},
   "source": [
    "Output the file"
   ]
  },
  {
   "cell_type": "code",
   "execution_count": 18,
   "metadata": {},
   "outputs": [],
   "source": [
    "# Save the synthetic data to a CSV file\n",
    "synthetic_data.to_csv('synthetic_data.csv', index=False)"
   ]
  }
 ],
 "metadata": {
  "kernelspec": {
   "display_name": "Python 3",
   "language": "python",
   "name": "python3"
  },
  "language_info": {
   "codemirror_mode": {
    "name": "ipython",
    "version": 3
   },
   "file_extension": ".py",
   "mimetype": "text/x-python",
   "name": "python",
   "nbconvert_exporter": "python",
   "pygments_lexer": "ipython3",
   "version": "3.11.0"
  }
 },
 "nbformat": 4,
 "nbformat_minor": 2
}
